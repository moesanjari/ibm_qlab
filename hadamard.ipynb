{
 "cells": [
  {
   "cell_type": "code",
   "execution_count": 6,
   "id": "5f8bc72b-b7c4-488d-ad31-f62fdb795364",
   "metadata": {},
   "outputs": [
    {
     "name": "stderr",
     "output_type": "stream",
     "text": [
      "ibmqfactory.load_account:WARNING:2022-01-06 04:11:37,507: Credentials are already in use. The existing account in the session will be replaced.\n"
     ]
    }
   ],
   "source": [
    "import numpy as np\n",
    "\n",
    "# Importing standard Qiskit libraries\n",
    "from qiskit import QuantumCircuit, transpile, execute, Aer, IBMQ\n",
    "from qiskit.tools.jupyter import *\n",
    "from qiskit.visualization import *\n",
    "from ibm_quantum_widgets import *\n",
    "from qiskit.providers.aer import QasmSimulator\n",
    "\n",
    "# Loading your IBM Quantum account(s)\n",
    "provider = IBMQ.load_account()"
   ]
  },
  {
   "cell_type": "markdown",
   "id": "7a6b1ab3-10f9-4a7e-8171-8d6c111de4f8",
   "metadata": {},
   "source": []
  },
  {
   "cell_type": "code",
   "execution_count": 4,
   "id": "d75698f3-5427-4b5a-831f-1c04470fd249",
   "metadata": {},
   "outputs": [
    {
     "data": {
      "image/png": "[encoded data removed]",
      "text/plain": [
       "<Figure size 327.252x204.68 with 1 Axes>"
      ]
     },
     "execution_count": 4,
     "metadata": {},
     "output_type": "execute_result"
    }
   ],
   "source": [
    "qc=QuantumCircuit(2,2)\n",
    "qc.h(0)\n",
    "qc.cx(0,1)\n",
    "qc.measure(range(2),range(2))\n",
    "qc.draw()"
   ]
  },
  {
   "cell_type": "code",
   "execution_count": 18,
   "id": "f2c03f22-8024-4d87-af1f-d20f8dfb6d56",
   "metadata": {},
   "outputs": [],
   "source": [
    "backend=provider.get_backend('ibmq_lima')\n",
    "job_simulator=execute(qc, backend , shots=1024)\n",
    "result=job_simulator.result()"
   ]
  },
  {
   "cell_type": "code",
   "execution_count": 8,
   "id": "800ff186-7da7-4e33-b754-4323ba555056",
   "metadata": {},
   "outputs": [
    {
     "name": "stdout",
     "output_type": "stream",
     "text": [
      "{'11': 473, '00': 551}\n"
     ]
    }
   ],
   "source": [
    "count=result.get_counts(qc)\n",
    "print(count)"
   ]
  },
  {
   "cell_type": "code",
   "execution_count": 9,
   "id": "7469eb3a-dce6-4a67-ab7f-2c885c7d64b4",
   "metadata": {},
   "outputs": [
    {
     "data": {
      "image/png": "[encoded data removed]",
      "text/plain": [
       "<Figure size 504x360 with 1 Axes>"
      ]
     },
     "execution_count": 9,
     "metadata": {},
     "output_type": "execute_result"
    }
   ],
   "source": [
    "from qiskit.visualization import plot_histogram\n",
    "plot_histogram(count)"
   ]
  },
  {
   "cell_type": "code",
   "execution_count": 17,
   "id": "ac0297db-4860-465a-9d78-c1eea1ba1c4e",
   "metadata": {},
   "outputs": [
    {
     "data": {
      "text/plain": [
       "[<IBMQSimulator('ibmq_qasm_simulator') from IBMQ(hub='ibm-q', group='open', project='main')>,\n",
       " <IBMQBackend('ibmq_armonk') from IBMQ(hub='ibm-q', group='open', project='main')>,\n",
       " <IBMQBackend('ibmq_santiago') from IBMQ(hub='ibm-q', group='open', project='main')>,\n",
       " <IBMQBackend('ibmq_bogota') from IBMQ(hub='ibm-q', group='open', project='main')>,\n",
       " <IBMQBackend('ibmq_lima') from IBMQ(hub='ibm-q', group='open', project='main')>,\n",
       " <IBMQBackend('ibmq_belem') from IBMQ(hub='ibm-q', group='open', project='main')>,\n",
       " <IBMQBackend('ibmq_quito') from IBMQ(hub='ibm-q', group='open', project='main')>,\n",
       " <IBMQSimulator('simulator_statevector') from IBMQ(hub='ibm-q', group='open', project='main')>,\n",
       " <IBMQSimulator('simulator_mps') from IBMQ(hub='ibm-q', group='open', project='main')>,\n",
       " <IBMQSimulator('simulator_extended_stabilizer') from IBMQ(hub='ibm-q', group='open', project='main')>,\n",
       " <IBMQSimulator('simulator_stabilizer') from IBMQ(hub='ibm-q', group='open', project='main')>,\n",
       " <IBMQBackend('ibmq_manila') from IBMQ(hub='ibm-q', group='open', project='main')>]"
      ]
     },
     "execution_count": 17,
     "metadata": {},
     "output_type": "execute_result"
    }
   ],
   "source": [
    "provider.backends()"
   ]
  },
  {
   "cell_type": "code",
   "execution_count": null,
   "id": "32531050-804e-44b7-98fd-8f52206d9ee4",
   "metadata": {},
   "outputs": [],
   "source": []
  }
 ],
 "metadata": {
  "kernelspec": {
   "display_name": "Qiskit v0.34.0 (ipykernel)",
   "language": "python",
   "name": "python3"
  },
  "language_info": {
   "codemirror_mode": {
    "name": "ipython",
    "version": 3
   },
   "file_extension": ".py",
   "mimetype": "text/x-python",
   "name": "python",
   "nbconvert_exporter": "python",
   "pygments_lexer": "ipython3",
   "version": "3.8.10"
  },
  "widgets": {
   "application/vnd.jupyter.widget-state+json": {
    "state": {
     "023e42e1532e481ea141179830a3e0c1": {
      "model_module": "@jupyter-widgets/controls",
      "model_module_version": "1.5.0",
      "model_name": "DescriptionStyleModel",
      "state": {
       "description_width": ""
      }
     },
     "0922daf55a9645bea92066693cf989ef": {
      "model_module": "@jupyter-widgets/base",
      "model_module_version": "1.2.0",
      "model_name": "LayoutModel",
      "state": {
       "width": "95px"
      }
     },
     "0a4e5c017f6342ee80376e1a3ebd5ad5": {
      "model_module": "@jupyter-widgets/base",
      "model_module_version": "1.2.0",
      "model_name": "LayoutModel",
      "state": {
       "width": "95px"
      }
     },
     "0ecb57a2a8284b8fa3e0cfade8d5c132": {
      "model_module": "@jupyter-widgets/base",
      "model_module_version": "1.2.0",
      "model_name": "LayoutModel",
      "state": {
       "grid_template_areas": "\n                                       \". . . . right \"\n                                        ",
       "grid_template_columns": "20% 20% 20% 20% 20%",
       "width": "100%"
      }
     },
     "14034d1844ad41879d93d140255734c8": {
      "model_module": "@jupyter-widgets/base",
      "model_module_version": "1.2.0",
      "model_name": "LayoutModel",
      "state": {
       "width": "145px"
      }
     },
     "1d924bde2dd747b7a148111f333c05e7": {
      "model_module": "@jupyter-widgets/base",
      "model_module_version": "1.2.0",
      "model_name": "LayoutModel",
      "state": {
       "margin": "0px 5px 0px 0px",
       "width": "32px"
      }
     },
     "29eeeb0cfde943bca802d619161cf4cc": {
      "model_module": "@jupyter-widgets/controls",
      "model_module_version": "1.5.0",
      "model_name": "DescriptionStyleModel",
      "state": {
       "description_width": ""
      }
     },
     "2abccc1099ff479fb2a8a996168fbf22": {
      "model_module": "@jupyter-widgets/controls",
      "model_module_version": "1.5.0",
      "model_name": "HTMLModel",
      "state": {
       "layout": "IPY_MODEL_6f15d61eac614bb39fefd61d929be3cd",
       "style": "IPY_MODEL_a2970e19714e4dd2aa1f622bd15f9aba",
       "value": "<h5>Message</h5>"
      }
     },
     "32e884bc05e54a3cb8c1474643cd1ad2": {
      "model_module": "@jupyter-widgets/controls",
      "model_module_version": "1.5.0",
      "model_name": "ButtonModel",
      "state": {
       "button_style": "primary",
       "description": "Clear",
       "layout": "IPY_MODEL_442c0efbec9b429aa5a16c3c18373e8c",
       "style": "IPY_MODEL_e1ffe0f4145546f5b9c44beca61a004d"
      }
     },
     "4046ffab705948269299055d3b4dd063": {
      "model_module": "@jupyter-widgets/base",
      "model_module_version": "1.2.0",
      "model_name": "LayoutModel",
      "state": {
       "max_width": "700px",
       "min_width": "700px"
      }
     },
     "442c0efbec9b429aa5a16c3c18373e8c": {
      "model_module": "@jupyter-widgets/base",
      "model_module_version": "1.2.0",
      "model_name": "LayoutModel",
      "state": {
       "grid_area": "right",
       "padding": "0px 0px 0px 0px",
       "width": "70px"
      }
     },
     "51abff62bd1c4f968767d900d0d958d7": {
      "model_module": "@jupyter-widgets/controls",
      "model_module_version": "1.5.0",
      "model_name": "HTMLModel",
      "state": {
       "layout": "IPY_MODEL_78e009fe141043dea66b7360373a1af1",
       "style": "IPY_MODEL_a5619c20ad14462398db029ecabfecf9",
       "value": "job has successfully run"
      }
     },
     "543b4b3707bf433ea5b7e5e189bb9a0a": {
      "model_module": "@jupyter-widgets/controls",
      "model_module_version": "1.5.0",
      "model_name": "HTMLModel",
      "state": {
       "layout": "IPY_MODEL_0a4e5c017f6342ee80376e1a3ebd5ad5",
       "style": "IPY_MODEL_6fdc77cbb2204292bbddff5f9cb2033d",
       "value": "<h5>Status</h5>"
      }
     },
     "59305da8a6cd4a6aac0df80a7dc76bf3": {
      "model_module": "@jupyter-widgets/base",
      "model_module_version": "1.2.0",
      "model_name": "LayoutModel",
      "state": {
       "margin": "0px 0px 0px 37px",
       "width": "600px"
      }
     },
     "5f63e80d2dc747388697aecf5193819f": {
      "model_module": "@jupyter-widgets/base",
      "model_module_version": "1.2.0",
      "model_name": "LayoutModel",
      "state": {
       "width": "190px"
      }
     },
     "65679f3cb52543baa7341eca9f0f8e37": {
      "model_module": "@jupyter-widgets/base",
      "model_module_version": "1.2.0",
      "model_name": "LayoutModel",
      "state": {
       "width": "145px"
      }
     },
     "697f8a5e88bb4491b3c17648d93b2211": {
      "model_module": "@jupyter-widgets/controls",
      "model_module_version": "1.5.0",
      "model_name": "HTMLModel",
      "state": {
       "layout": "IPY_MODEL_14034d1844ad41879d93d140255734c8",
       "style": "IPY_MODEL_d823ed5c25884d2e8d269ccba2030feb",
       "value": "ibmq_lima"
      }
     },
     "6f15d61eac614bb39fefd61d929be3cd": {
      "model_module": "@jupyter-widgets/base",
      "model_module_version": "1.2.0",
      "model_name": "LayoutModel",
      "state": {}
     },
     "6fdc77cbb2204292bbddff5f9cb2033d": {
      "model_module": "@jupyter-widgets/controls",
      "model_module_version": "1.5.0",
      "model_name": "DescriptionStyleModel",
      "state": {
       "description_width": ""
      }
     },
     "742fc376b7d8424fb208bb83e5e317cb": {
      "model_module": "@jupyter-widgets/base",
      "model_module_version": "1.2.0",
      "model_name": "LayoutModel",
      "state": {
       "margin": "0px 0px 10px 0px"
      }
     },
     "7795f9428c874e94bd418863f6eee615": {
      "model_module": "@jupyter-widgets/controls",
      "model_module_version": "1.5.0",
      "model_name": "DescriptionStyleModel",
      "state": {
       "description_width": ""
      }
     },
     "78e009fe141043dea66b7360373a1af1": {
      "model_module": "@jupyter-widgets/base",
      "model_module_version": "1.2.0",
      "model_name": "LayoutModel",
      "state": {
       "overflow_x": "scroll"
      }
     },
     "7952ce129fd54cde884f69fd50f537bc": {
      "model_module": "@jupyter-widgets/controls",
      "model_module_version": "1.5.0",
      "model_name": "DescriptionStyleModel",
      "state": {
       "description_width": ""
      }
     },
     "7dc188dfa4694eba9003d4ed35bbbc01": {
      "model_module": "@jupyter-widgets/controls",
      "model_module_version": "1.5.0",
      "model_name": "HTMLModel",
      "state": {
       "layout": "IPY_MODEL_c5586a16d3444a30910eb8b9a2f68c16",
       "style": "IPY_MODEL_7952ce129fd54cde884f69fd50f537bc",
       "value": "<h5>Queue</h5>"
      }
     },
     "82a96e5fa29e41e993461d1594dd22ed": {
      "model_module": "@jupyter-widgets/controls",
      "model_module_version": "1.5.0",
      "model_name": "HTMLModel",
      "state": {
       "layout": "IPY_MODEL_ed73ab44f1ec401983f8889c2cb83511",
       "style": "IPY_MODEL_a7ee4ccc26d448f69a64c3a8a0260288",
       "value": "-"
      }
     },
     "895829f525e045128662f841dd4ed993": {
      "model_module": "@jupyter-widgets/controls",
      "model_module_version": "1.5.0",
      "model_name": "HTMLModel",
      "state": {
       "layout": "IPY_MODEL_0922daf55a9645bea92066693cf989ef",
       "style": "IPY_MODEL_023e42e1532e481ea141179830a3e0c1",
       "value": "<font style='color:#34BC6E'>DONE</font>"
      }
     },
     "9427776ea68749e6bcac6e6609c76f26": {
      "model_module": "@jupyter-widgets/controls",
      "model_module_version": "1.5.0",
      "model_name": "GridBoxModel",
      "state": {
       "children": [
        "IPY_MODEL_32e884bc05e54a3cb8c1474643cd1ad2"
       ],
       "layout": "IPY_MODEL_0ecb57a2a8284b8fa3e0cfade8d5c132"
      }
     },
     "94966d62d8284236b8c3f21c9c54072b": {
      "model_module": "@jupyter-widgets/controls",
      "model_module_version": "1.5.0",
      "model_name": "ButtonStyleModel",
      "state": {
       "button_color": "white"
      }
     },
     "965a4cddfb0a45ab892bdd8bc932da24": {
      "model_module": "@jupyter-widgets/controls",
      "model_module_version": "1.5.0",
      "model_name": "HBoxModel",
      "state": {
       "children": [
        "IPY_MODEL_fab8c5d4ce7f45179affce1040df24fd",
        "IPY_MODEL_a25a838227034ce5bf1cffe579593e1f",
        "IPY_MODEL_543b4b3707bf433ea5b7e5e189bb9a0a",
        "IPY_MODEL_7dc188dfa4694eba9003d4ed35bbbc01",
        "IPY_MODEL_2abccc1099ff479fb2a8a996168fbf22"
       ],
       "layout": "IPY_MODEL_59305da8a6cd4a6aac0df80a7dc76bf3"
      }
     },
     "a25a838227034ce5bf1cffe579593e1f": {
      "model_module": "@jupyter-widgets/controls",
      "model_module_version": "1.5.0",
      "model_name": "HTMLModel",
      "state": {
       "layout": "IPY_MODEL_65679f3cb52543baa7341eca9f0f8e37",
       "style": "IPY_MODEL_7795f9428c874e94bd418863f6eee615",
       "value": "<h5>Backend</h5>"
      }
     },
     "a2970e19714e4dd2aa1f622bd15f9aba": {
      "model_module": "@jupyter-widgets/controls",
      "model_module_version": "1.5.0",
      "model_name": "DescriptionStyleModel",
      "state": {
       "description_width": ""
      }
     },
     "a5619c20ad14462398db029ecabfecf9": {
      "model_module": "@jupyter-widgets/controls",
      "model_module_version": "1.5.0",
      "model_name": "DescriptionStyleModel",
      "state": {
       "description_width": ""
      }
     },
     "a5d5b7934217434c9694ac187046f2e4": {
      "model_module": "@jupyter-widgets/controls",
      "model_module_version": "1.5.0",
      "model_name": "HTMLModel",
      "state": {
       "layout": "IPY_MODEL_d28085dcfeeb41c9bc31291c5d8719b3",
       "style": "IPY_MODEL_ea67adb9ec7042ddb0f8a7e434dd05ef",
       "value": "61d66eb1658f81e90e6fa36c"
      }
     },
     "a7ee4ccc26d448f69a64c3a8a0260288": {
      "model_module": "@jupyter-widgets/controls",
      "model_module_version": "1.5.0",
      "model_name": "DescriptionStyleModel",
      "state": {
       "description_width": ""
      }
     },
     "c542eb4024f74b74a1e0a0d69b65c488": {
      "model_module": "@jupyter-widgets/controls",
      "model_module_version": "1.5.0",
      "model_name": "ButtonModel",
      "state": {
       "icon": "close",
       "layout": "IPY_MODEL_1d924bde2dd747b7a148111f333c05e7",
       "style": "IPY_MODEL_94966d62d8284236b8c3f21c9c54072b"
      }
     },
     "c5586a16d3444a30910eb8b9a2f68c16": {
      "model_module": "@jupyter-widgets/base",
      "model_module_version": "1.2.0",
      "model_name": "LayoutModel",
      "state": {
       "width": "70px"
      }
     },
     "c5b38b62d18c4b95a2442183c60804f0": {
      "model_module": "@jupyter-widgets/controls",
      "model_module_version": "1.5.0",
      "model_name": "HBoxModel",
      "state": {
       "children": [
        "IPY_MODEL_c542eb4024f74b74a1e0a0d69b65c488",
        "IPY_MODEL_a5d5b7934217434c9694ac187046f2e4",
        "IPY_MODEL_697f8a5e88bb4491b3c17648d93b2211",
        "IPY_MODEL_895829f525e045128662f841dd4ed993",
        "IPY_MODEL_82a96e5fa29e41e993461d1594dd22ed",
        "IPY_MODEL_51abff62bd1c4f968767d900d0d958d7"
       ],
       "layout": "IPY_MODEL_4046ffab705948269299055d3b4dd063"
      }
     },
     "d28085dcfeeb41c9bc31291c5d8719b3": {
      "model_module": "@jupyter-widgets/base",
      "model_module_version": "1.2.0",
      "model_name": "LayoutModel",
      "state": {
       "width": "190px"
      }
     },
     "d823ed5c25884d2e8d269ccba2030feb": {
      "model_module": "@jupyter-widgets/controls",
      "model_module_version": "1.5.0",
      "model_name": "DescriptionStyleModel",
      "state": {
       "description_width": ""
      }
     },
     "d87962202487492292e3f2f9f2515cab": {
      "model_module": "@jupyter-widgets/controls",
      "model_module_version": "1.5.0",
      "model_name": "HTMLModel",
      "state": {
       "layout": "IPY_MODEL_742fc376b7d8424fb208bb83e5e317cb",
       "style": "IPY_MODEL_dd0467738e9e4d4ba7bbd95413e39654",
       "value": "<p style='font-family: IBM Plex Sans, Arial, Helvetica, sans-serif; font-size: 20px; font-weight: medium;'>Circuit Properties</p>"
      }
     },
     "dd0467738e9e4d4ba7bbd95413e39654": {
      "model_module": "@jupyter-widgets/controls",
      "model_module_version": "1.5.0",
      "model_name": "DescriptionStyleModel",
      "state": {
       "description_width": ""
      }
     },
     "e1ffe0f4145546f5b9c44beca61a004d": {
      "model_module": "@jupyter-widgets/controls",
      "model_module_version": "1.5.0",
      "model_name": "ButtonStyleModel",
      "state": {}
     },
     "ea67adb9ec7042ddb0f8a7e434dd05ef": {
      "model_module": "@jupyter-widgets/controls",
      "model_module_version": "1.5.0",
      "model_name": "DescriptionStyleModel",
      "state": {
       "description_width": ""
      }
     },
     "ed73ab44f1ec401983f8889c2cb83511": {
      "model_module": "@jupyter-widgets/base",
      "model_module_version": "1.2.0",
      "model_name": "LayoutModel",
      "state": {
       "width": "70px"
      }
     },
     "fab8c5d4ce7f45179affce1040df24fd": {
      "model_module": "@jupyter-widgets/controls",
      "model_module_version": "1.5.0",
      "model_name": "HTMLModel",
      "state": {
       "layout": "IPY_MODEL_5f63e80d2dc747388697aecf5193819f",
       "style": "IPY_MODEL_29eeeb0cfde943bca802d619161cf4cc",
       "value": "<h5>Job ID</h5>"
      }
     }
    },
    "version_major": 2,
    "version_minor": 0
   }
  }
 },
 "nbformat": 4,
 "nbformat_minor": 5
}
